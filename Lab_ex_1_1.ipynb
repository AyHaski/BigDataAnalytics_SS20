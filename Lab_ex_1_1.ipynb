{
 "cells": [
  {
   "cell_type": "markdown",
   "metadata": {},
   "source": [
    "# Ex 1.1: MapReduce with Python Functional Programming"
   ]
  },
  {
   "cell_type": "markdown",
   "metadata": {},
   "source": [
    "#### Python *map* function\n",
    "Python has e built in *map* function -> [see python docs](https://docs.python.org/3/library/functions.html#map)\n",
    "* ``map(function, iterable object)`` applies a function to every member of the object (=data structure)\n",
    "* iterable objects are e.g. lists, dicts, arrays, ... but also custom data structures (see [here](https://thispointer.com/python-how-to-make-a-class-iterable-create-iterator-class-for-it/))"
   ]
  },
  {
   "cell_type": "code",
   "execution_count": 36,
   "metadata": {},
   "outputs": [
    {
     "name": "stdout",
     "output_type": "stream",
     "text": [
      "[1, 2, 3, 4]\n",
      "1\n",
      "2\n",
      "3\n",
      "4\n",
      "[2, 3, 4, 5]\n"
     ]
    }
   ],
   "source": [
    "#example\n",
    "def Plus1(a):\n",
    "    print(a)\n",
    "    return a+1\n",
    "\n",
    "A = [1,2,3,4]\n",
    "print(A)\n",
    "B = list(map(Plus1,A)) #need to cast map output to list\n",
    "print(B)"
   ]
  },
  {
   "cell_type": "code",
   "execution_count": 14,
   "metadata": {},
   "outputs": [
    {
     "name": "stdout",
     "output_type": "stream",
     "text": [
      "[1, 2, 3, 4]\n",
      "[3, 4, 5, 6]\n",
      "[2, 3, 6, 7]\n"
     ]
    }
   ],
   "source": [
    "#example 2 - map with an function that takes arguments\n",
    "from functools import partial\n",
    "\n",
    "def PlusX(a,x):\n",
    "    return a+x\n",
    "\n",
    "\n",
    "A = [1,2,3,4]\n",
    "print(A)\n",
    "B = list(map(partial(PlusX,x=2),A)) #use partial to fix parameters \n",
    "print(B)\n",
    "\n",
    "C = [1,1,3,3]\n",
    "D = list(map(PlusX,A,C)) #or input multiple iterable objects\n",
    "print(D)"
   ]
  },
  {
   "cell_type": "code",
   "execution_count": 15,
   "metadata": {},
   "outputs": [
    {
     "name": "stdout",
     "output_type": "stream",
     "text": [
      "[2, 3, 4, 5]\n"
     ]
    }
   ],
   "source": [
    "#example 3 - map with lmbda functions\n",
    "A = [1,2,3,4]\n",
    "B = list(map(lambda x:x+1,A ))#implement function directly with lambda\n",
    "print(B)"
   ]
  },
  {
   "cell_type": "code",
   "execution_count": 16,
   "metadata": {},
   "outputs": [
    {
     "data": {
      "text/plain": [
       "array([[11.0975865 , 17.34680829,  7.7722772 , 15.84491865, 15.19899373,\n",
       "         5.11242654, 15.57530945,  1.01455288,  0.18512856, 15.13934986],\n",
       "       [ 2.89003269,  1.48081536, 17.42801382, 17.7348157 ,  1.63167871,\n",
       "        11.41632549, 13.49503645,  9.92343113,  3.01559205, 10.83376142],\n",
       "       [ 8.21426402,  3.97031094,  4.64987462,  7.13270754, 11.39557383,\n",
       "         6.50103137,  5.08206418, 13.38594123,  0.52890546, 18.43189019],\n",
       "       [ 3.21505021,  9.46099638, 18.63339305,  4.11150064, 12.10124868,\n",
       "         0.25161595,  9.51308134,  6.73573791,  9.09871393, 10.25077448],\n",
       "       [14.505892  ,  4.22792634,  0.720562  , 12.43222693,  4.72308827,\n",
       "         9.75410761,  2.94507856,  0.65912037, 15.65445323, 11.99402139],\n",
       "       [13.1152986 ,  1.07736223, 11.51535345, 15.77542287,  2.07551163,\n",
       "        16.36863523,  3.25015517, 11.36888075, 12.30192682, 12.2661247 ],\n",
       "       [16.25522731, 19.08034184, 14.62329863,  9.36165006, 17.21920425,\n",
       "        11.01937606, 10.25172475, 15.16839489,  9.24629614, 13.86882927],\n",
       "       [ 2.92950228, 11.5005944 , 14.5868763 , 10.74628913, 15.54194467,\n",
       "        19.71591402,  3.74831489,  7.05322134, 14.77707786,  0.144901  ],\n",
       "       [10.17531785, 11.02068317,  4.60524965, 16.85793477,  9.83158024,\n",
       "         9.43309847, 17.91849083, 13.44845974, 14.2807461 , 14.30926051],\n",
       "       [16.43240849,  7.67373385,  4.77783368, 16.54373612,  7.47606995,\n",
       "         8.98725055,  6.64362805,  7.38722792, 10.45144105,  0.56324175]])"
      ]
     },
     "execution_count": 16,
     "metadata": {},
     "output_type": "execute_result"
    }
   ],
   "source": [
    "#example 4 - Numpy has map \"build in\"\n",
    "import numpy as np\n",
    "A = np.random.rand(10,10)*20\n",
    "A"
   ]
  },
  {
   "cell_type": "code",
   "execution_count": 17,
   "metadata": {},
   "outputs": [],
   "source": [
    "#apply function directly on each element of an array\n",
    "def isLarger10(x):\n",
    "    return x>10\n",
    "\n",
    "B = isLarger10(A)"
   ]
  },
  {
   "cell_type": "code",
   "execution_count": 18,
   "metadata": {},
   "outputs": [
    {
     "data": {
      "text/plain": [
       "array([[ True,  True, False,  True,  True, False,  True, False, False,\n",
       "         True],\n",
       "       [False, False,  True,  True, False,  True,  True, False, False,\n",
       "         True],\n",
       "       [False, False, False, False,  True, False, False,  True, False,\n",
       "         True],\n",
       "       [False, False,  True, False,  True, False, False, False, False,\n",
       "         True],\n",
       "       [ True, False, False,  True, False, False, False, False,  True,\n",
       "         True],\n",
       "       [ True, False,  True,  True, False,  True, False,  True,  True,\n",
       "         True],\n",
       "       [ True,  True,  True, False,  True,  True,  True,  True, False,\n",
       "         True],\n",
       "       [False,  True,  True,  True,  True,  True, False, False,  True,\n",
       "        False],\n",
       "       [ True,  True, False,  True, False, False,  True,  True,  True,\n",
       "         True],\n",
       "       [ True, False, False,  True, False, False, False, False,  True,\n",
       "        False]])"
      ]
     },
     "execution_count": 18,
     "metadata": {},
     "output_type": "execute_result"
    }
   ],
   "source": [
    "B"
   ]
  },
  {
   "cell_type": "markdown",
   "metadata": {},
   "source": [
    "#### *Reduce* in Python\n",
    "*functools* also provides a *reduce* function. Again, it will take a function and one ore more iterable objects as arguments. (see [API](https://docs.python.org/3/library/functools.html#functools.reduce))"
   ]
  },
  {
   "cell_type": "code",
   "execution_count": 7,
   "metadata": {},
   "outputs": [
    {
     "name": "stdout",
     "output_type": "stream",
     "text": [
      "The sum of the list elements is : 17\n",
      "The maximum element of the list is : 6\n"
     ]
    }
   ],
   "source": [
    "# importing functools for reduce() \n",
    "import functools \n",
    "  \n",
    "# initializing list \n",
    "lis = [ 1 , 3, 5, 6, 2, ] \n",
    "  \n",
    "def addIt(a,b):\n",
    "    return a+b\n",
    "\n",
    "# using reduce to compute sum of list \n",
    "print (\"The sum of the list elements is : \",end=\"\") \n",
    "print (functools.reduce(addIt,lis)) \n",
    "  \n",
    "# using reduce to compute maximum element from list \n",
    "print (\"The maximum element of the list is : \",end=\"\") \n",
    "print (functools.reduce(lambda a,b : a if a > b else b,lis)) "
   ]
  },
  {
   "cell_type": "markdown",
   "metadata": {},
   "source": [
    "#### Splitting"
   ]
  },
  {
   "cell_type": "code",
   "execution_count": 8,
   "metadata": {},
   "outputs": [
    {
     "name": "stdout",
     "output_type": "stream",
     "text": [
      "[1, 2, 3]\n",
      "[4, 5, 6]\n",
      "[7, 8, 9]\n"
     ]
    }
   ],
   "source": [
    "import more_itertools as mit\n",
    "\n",
    "A=[1,2,3,4,5,6,7,8,9]\n",
    "B=list(mit.chunked(A, 3)) #split into lists of max size 3\n",
    "\n",
    "for i in B: #iterate over the spitts \n",
    "    print(i)"
   ]
  },
  {
   "cell_type": "code",
   "execution_count": 9,
   "metadata": {},
   "outputs": [
    {
     "name": "stdout",
     "output_type": "stream",
     "text": [
      "['t', 'h', 'i', 's', ' ']\n",
      "['i', 's', ' ', 'a', ' ']\n",
      "['s', 'h', 'o', 'r', 't']\n",
      "[' ', 't', 'e', 'x', 't']\n",
      "[' ', 'i', 'n', ' ', 'f']\n",
      "['o', 'r', 'm', ' ', 'o']\n",
      "['f', ' ', 'a', ' ', 'p']\n",
      "['y', 't', 'h', 'o', 'n']\n",
      "[' ', 's', 't', 'r', 'i']\n",
      "['n', 'g']\n"
     ]
    }
   ],
   "source": [
    "A='this is a short text in form of a python string'\n",
    "B=list(mit.chunked(A, 5)) #split into lists of max size 5\n",
    "\n",
    "for i in B: #iterate over the spitts \n",
    "    print(i)"
   ]
  },
  {
   "cell_type": "markdown",
   "metadata": {},
   "source": [
    "## Exercise: build a simple *Character Count* Algorithm based on the above *split, map* and *reduce* operators "
   ]
  },
  {
   "cell_type": "code",
   "execution_count": 50,
   "metadata": {},
   "outputs": [],
   "source": [
    "#some text from NYTimes\n",
    "text = ' Byron Spencer, handing out water and burgers to protesters outside Los Angeles City Hall, said he was both “elated and defeated” by word of the new charges. He said he had seen countless surges of outrage over police brutality against black men, only to have it happen again. “I’m 55, I’m black and I’m male — I’ve seen the cycle,” he said. “It’s almost like PTSD constantly having this conversation with my son.” Cierra Sesay reacted to the charges at a demonstration in the shadow of the State Capitol in Denver. “It’s amazing, it’s another box we can check,” she said. “But it goes up so much higher. It’s about the system.” In San Francisco, Tevita Tomasi — who is of Polynesian descent and described himself as “dark and tall and big” — said he regularly faced racial profiling, evidence of the bigger forces that must be overcome. On Wednesday, he distributed bottled water at what he said was his first demonstration, but one that would not be his last. What would stop him from protesting?'"
   ]
  },
  {
   "cell_type": "markdown",
   "metadata": {},
   "source": [
    "* HINT: use list pf *python* [dictionaries](https://docs.python.org/3/tutorial/datastructures.html#dictionaries) to store the character counts in the map\n",
    "* HINT 2: merge the dicts in reduce"
   ]
  },
  {
   "cell_type": "code",
   "execution_count": 54,
   "metadata": {},
   "outputs": [
    {
     "name": "stdout",
     "output_type": "stream",
     "text": [
      "[' ', 'B', 'Y', 'R', 'O', 'N', ' ', 'S', 'P', 'E', 'N', 'C', 'E', 'R', ',', ' ', 'H', 'A', 'N', 'D', 'I', 'N', 'G', ' ', 'O', 'U', 'T', ' ', 'W', 'A', 'T', 'E', 'R', ' ', 'A', 'N', 'D', ' ', 'B', 'U', 'R', 'G', 'E', 'R', 'S', ' ', 'T', 'O', ' ', 'P', 'R', 'O', 'T', 'E', 'S', 'T', 'E', 'R', 'S', ' ', 'O', 'U', 'T', 'S', 'I', 'D', 'E', ' ', 'L', 'O', 'S', ' ', 'A', 'N', 'G', 'E', 'L', 'E', 'S', ' ', 'C', 'I', 'T', 'Y', ' ', 'H', 'A', 'L', 'L', ',', ' ', 'S', 'A', 'I', 'D', ' ', 'H', 'E', ' ', 'W', 'A', 'S', ' ', 'B', 'O', 'T', 'H', ' ', '“', 'E', 'L', 'A', 'T', 'E', 'D', ' ', 'A', 'N', 'D', ' ', 'D', 'E', 'F', 'E', 'A', 'T', 'E', 'D', '”', ' ', 'B', 'Y', ' ', 'W', 'O', 'R', 'D', ' ', 'O', 'F', ' ', 'T', 'H', 'E', ' ', 'N', 'E', 'W', ' ', 'C', 'H', 'A', 'R', 'G', 'E', 'S', '.', ' ', 'H', 'E', ' ', 'S', 'A', 'I', 'D', ' ', 'H', 'E', ' ', 'H', 'A', 'D', ' ', 'S', 'E', 'E', 'N', ' ', 'C', 'O', 'U', 'N', 'T', 'L', 'E', 'S', 'S', ' ', 'S', 'U', 'R', 'G', 'E', 'S', ' ', 'O', 'F', ' ', 'O', 'U', 'T', 'R', 'A', 'G', 'E', ' ', 'O', 'V', 'E', 'R', ' ', 'P', 'O', 'L', 'I', 'C', 'E', ' ', 'B', 'R', 'U', 'T', 'A', 'L', 'I', 'T', 'Y', ' ', 'A', 'G', 'A', 'I', 'N', 'S', 'T', ' ', 'B', 'L', 'A', 'C', 'K', ' ', 'M', 'E', 'N', ',', ' ', 'O', 'N', 'L', 'Y', ' ', 'T', 'O', ' ', 'H', 'A', 'V', 'E', ' ', 'I', 'T', ' ', 'H', 'A', 'P', 'P', 'E', 'N', ' ', 'A', 'G', 'A', 'I', 'N', '.', ' ', '“', 'I', '’', 'M', ' ', '5', '5', ',', ' ', 'I', '’', 'M', ' ', 'B', 'L', 'A', 'C', 'K', ' ', 'A', 'N', 'D', ' ', 'I', '’', 'M', ' ', 'M', 'A', 'L', 'E', ' ', '—', ' ', 'I', '’', 'V', 'E', ' ', 'S', 'E', 'E', 'N', ' ', 'T', 'H', 'E', ' ', 'C', 'Y', 'C', 'L', 'E', ',', '”', ' ', 'H', 'E', ' ', 'S', 'A', 'I', 'D', '.', ' ', '“', 'I', 'T', '’', 'S', ' ', 'A', 'L', 'M', 'O', 'S', 'T', ' ', 'L', 'I', 'K', 'E', ' ', 'P', 'T', 'S', 'D', ' ', 'C', 'O', 'N', 'S', 'T', 'A', 'N', 'T', 'L', 'Y', ' ', 'H', 'A', 'V', 'I', 'N', 'G', ' ', 'T', 'H', 'I', 'S', ' ', 'C', 'O', 'N', 'V', 'E', 'R', 'S', 'A', 'T', 'I', 'O', 'N', ' ', 'W', 'I', 'T', 'H', ' ', 'M', 'Y', ' ', 'S', 'O', 'N', '.', '”', ' ', 'C', 'I', 'E', 'R', 'R', 'A', ' ', 'S', 'E', 'S', 'A', 'Y', ' ', 'R', 'E', 'A', 'C', 'T', 'E', 'D', ' ', 'T', 'O', ' ', 'T', 'H', 'E', ' ', 'C', 'H', 'A', 'R', 'G', 'E', 'S', ' ', 'A', 'T', ' ', 'A', ' ', 'D', 'E', 'M', 'O', 'N', 'S', 'T', 'R', 'A', 'T', 'I', 'O', 'N', ' ', 'I', 'N', ' ', 'T', 'H', 'E', ' ', 'S', 'H', 'A', 'D', 'O', 'W', ' ', 'O', 'F', ' ', 'T', 'H', 'E', ' ', 'S', 'T', 'A', 'T', 'E', ' ', 'C', 'A', 'P', 'I', 'T', 'O', 'L', ' ', 'I', 'N', ' ', 'D', 'E', 'N', 'V', 'E', 'R', '.', ' ', '“', 'I', 'T', '’', 'S', ' ', 'A', 'M', 'A', 'Z', 'I', 'N', 'G', ',', ' ', 'I', 'T', '’', 'S', ' ', 'A', 'N', 'O', 'T', 'H', 'E', 'R', ' ', 'B', 'O', 'X', ' ', 'W', 'E', ' ', 'C', 'A', 'N', ' ', 'C', 'H', 'E', 'C', 'K', ',', '”', ' ', 'S', 'H', 'E', ' ', 'S', 'A', 'I', 'D', '.', ' ', '“', 'B', 'U', 'T', ' ', 'I', 'T', ' ', 'G', 'O', 'E', 'S', ' ', 'U', 'P', ' ', 'S', 'O', ' ', 'M', 'U', 'C', 'H', ' ', 'H', 'I', 'G', 'H', 'E', 'R', '.', ' ', 'I', 'T', '’', 'S', ' ', 'A', 'B', 'O', 'U', 'T', ' ', 'T', 'H', 'E', ' ', 'S', 'Y', 'S', 'T', 'E', 'M', '.', '”', ' ', 'I', 'N', ' ', 'S', 'A', 'N', ' ', 'F', 'R', 'A', 'N', 'C', 'I', 'S', 'C', 'O', ',', ' ', 'T', 'E', 'V', 'I', 'T', 'A', ' ', 'T', 'O', 'M', 'A', 'S', 'I', ' ', '—', ' ', 'W', 'H', 'O', ' ', 'I', 'S', ' ', 'O', 'F', ' ', 'P', 'O', 'L', 'Y', 'N', 'E', 'S', 'I', 'A', 'N', ' ', 'D', 'E', 'S', 'C', 'E', 'N', 'T', ' ', 'A', 'N', 'D', ' ', 'D', 'E', 'S', 'C', 'R', 'I', 'B', 'E', 'D', ' ', 'H', 'I', 'M', 'S', 'E', 'L', 'F', ' ', 'A', 'S', ' ', '“', 'D', 'A', 'R', 'K', ' ', 'A', 'N', 'D', ' ', 'T', 'A', 'L', 'L', ' ', 'A', 'N', 'D', ' ', 'B', 'I', 'G', '”', ' ', '—', ' ', 'S', 'A', 'I', 'D', ' ', 'H', 'E', ' ', 'R', 'E', 'G', 'U', 'L', 'A', 'R', 'L', 'Y', ' ', 'F', 'A', 'C', 'E', 'D', ' ', 'R', 'A', 'C', 'I', 'A', 'L', ' ', 'P', 'R', 'O', 'F', 'I', 'L', 'I', 'N', 'G', ',', ' ', 'E', 'V', 'I', 'D', 'E', 'N', 'C', 'E', ' ', 'O', 'F', ' ', 'T', 'H', 'E', ' ', 'B', 'I', 'G', 'G', 'E', 'R', ' ', 'F', 'O', 'R', 'C', 'E', 'S', ' ', 'T', 'H', 'A', 'T', ' ', 'M', 'U', 'S', 'T', ' ', 'B', 'E', ' ', 'O', 'V', 'E', 'R', 'C', 'O', 'M', 'E', '.', ' ', 'O', 'N', ' ', 'W', 'E', 'D', 'N', 'E', 'S', 'D', 'A', 'Y', ',', ' ', 'H', 'E', ' ', 'D', 'I', 'S', 'T', 'R', 'I', 'B', 'U', 'T', 'E', 'D', ' ', 'B', 'O', 'T', 'T', 'L', 'E', 'D', ' ', 'W', 'A', 'T', 'E', 'R', ' ', 'A', 'T', ' ', 'W', 'H', 'A', 'T', ' ', 'H', 'E', ' ', 'S', 'A', 'I', 'D', ' ', 'W', 'A', 'S', ' ', 'H', 'I', 'S', ' ', 'F', 'I', 'R', 'S', 'T', ' ', 'D', 'E', 'M', 'O', 'N', 'S', 'T', 'R', 'A', 'T', 'I', 'O', 'N', ',', ' ', 'B', 'U', 'T', ' ', 'O', 'N', 'E', ' ', 'T', 'H', 'A', 'T', ' ', 'W', 'O', 'U', 'L', 'D', ' ', 'N', 'O', 'T', ' ', 'B', 'E', ' ', 'H', 'I', 'S', ' ', 'L', 'A', 'S', 'T', '.', ' ', 'W', 'H', 'A', 'T', ' ', 'W', 'O', 'U', 'L', 'D', ' ', 'S', 'T', 'O', 'P', ' ', 'H', 'I', 'M', ' ', 'F', 'R', 'O', 'M', ' ', 'P', 'R', 'O', 'T', 'E', 'S', 'T', 'I', 'N', 'G', '?']\n"
     ]
    }
   ],
   "source": [
    "split_arr = mit.chunked(text.upper(),len(text))\n",
    "\n",
    "for chunk in split_arr:\n",
    "    print(chunk)"
   ]
  },
  {
   "cell_type": "code",
   "execution_count": null,
   "metadata": {},
   "outputs": [],
   "source": [
    "\n",
    "def createDict(A):\n",
    "    return {A:1}\n",
    "\n",
    "mapping = list(map(createDict,text))\n",
    "\n",
    "def countChar(a,b):\n",
    "    key=list(b.keys())"
   ]
  },
  {
   "cell_type": "code",
   "execution_count": 56,
   "metadata": {},
   "outputs": [],
   "source": [
    "data={}\n",
    "\n",
    "def createDict(a):\n",
    "    for n in a:\n",
    "        keys = data.keys()\n",
    "        if n in keys:\n",
    "            dsta[n] += 1\n",
    "        else:\n",
    "            data[n] = 1\n",
    "    return data\n",
    "\n",
    "\n",
    "for chunk in split_arr:\n",
    "print (functools.reduce(createDict,chunk))\n"
   ]
  },
  {
   "cell_type": "code",
   "execution_count": null,
   "metadata": {},
   "outputs": [],
   "source": []
  }
 ],
 "metadata": {
  "kernelspec": {
   "display_name": "Python 3",
   "language": "python",
   "name": "python3"
  },
  "language_info": {
   "codemirror_mode": {
    "name": "ipython",
    "version": 3
   },
   "file_extension": ".py",
   "mimetype": "text/x-python",
   "name": "python",
   "nbconvert_exporter": "python",
   "pygments_lexer": "ipython3",
   "version": "3.7.3"
  }
 },
 "nbformat": 4,
 "nbformat_minor": 4
}
